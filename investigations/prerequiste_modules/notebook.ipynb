{
 "cells": [
  {
   "cell_type": "code",
   "execution_count": 2,
   "metadata": {},
   "outputs": [
    {
     "data": {
      "text/plain": [
       "'\\nAuthor: Emmett Lawlor\\nDate: Wed 16 Feb 22\\nPurpose: To see if pre-requisite modules listed on BOM are accurate by comparing timetables \\n        from different semeseters \\n'"
      ]
     },
     "execution_count": 2,
     "metadata": {},
     "output_type": "execute_result"
    }
   ],
   "source": [
    "\"\"\"\n",
    "Author: Emmett Lawlor\n",
    "Date: Wed 16 Feb 22\n",
    "Purpose: To see if pre-requisite modules listed on BOM are accurate by comparing timetables \n",
    "        from different semeseters \n",
    "\"\"\""
   ]
  },
  {
   "cell_type": "code",
   "execution_count": 3,
   "metadata": {},
   "outputs": [],
   "source": [
    "import pandas as pd"
   ]
  },
  {
   "cell_type": "code",
   "execution_count": 4,
   "metadata": {},
   "outputs": [],
   "source": [
    "timetables = {\n",
    "    '2020SEM2': pd.read_json('../../scrapers/ul_scrapers_data2020/ul_course_timetables.json'),\n",
    "    '2021SEM1': pd.read_json('../../scrapers/ul_scrapers_data2021/ul_course_timetables.json'),\n",
    "    '2022SEM2': pd.read_json('../../scrapers/ul_scrapers_data2022/ul_course_timetables.json')\n",
    "}"
   ]
  },
  {
   "cell_type": "code",
   "execution_count": 5,
   "metadata": {},
   "outputs": [],
   "source": [
    "boms = {\n",
    "    '2020SEM2': pd.read_json('../../scrapers/ul_scrapers_data2020/ul_module_details.json'),\n",
    "    '2021SEM1': pd.read_json('../../scrapers/ul_scrapers_data2021/ul_module_details.json'),\n",
    "    '2022SEM2': pd.read_json('../../scrapers/ul_scrapers_data2022/ul_module_details.json')\n",
    "}"
   ]
  },
  {
   "cell_type": "code",
   "execution_count": 6,
   "metadata": {},
   "outputs": [
    {
     "ename": "AttributeError",
     "evalue": "'list' object has no attribute 'values'",
     "output_type": "error",
     "traceback": [
      "\u001b[0;31m---------------------------------------------------------------------------\u001b[0m",
      "\u001b[0;31mAttributeError\u001b[0m                            Traceback (most recent call last)",
      "Input \u001b[0;32mIn [6]\u001b[0m, in \u001b[0;36m<module>\u001b[0;34m\u001b[0m\n\u001b[1;32m      1\u001b[0m boms[\u001b[38;5;124m'\u001b[39m\u001b[38;5;124m2020SEM2\u001b[39m\u001b[38;5;124m'\u001b[39m]\u001b[38;5;241m.\u001b[39mkeys()\n\u001b[1;32m      2\u001b[0m timetables[\u001b[38;5;124m'\u001b[39m\u001b[38;5;124m2020SEM2\u001b[39m\u001b[38;5;124m'\u001b[39m]\u001b[38;5;241m.\u001b[39mkeys()\n\u001b[0;32m----> 3\u001b[0m \u001b[43mpd\u001b[49m\u001b[38;5;241;43m.\u001b[39;49m\u001b[43mjson_normalize\u001b[49m\u001b[43m(\u001b[49m\u001b[43mtimetables\u001b[49m\u001b[43m[\u001b[49m\u001b[38;5;124;43m'\u001b[39;49m\u001b[38;5;124;43m2020SEM2\u001b[39;49m\u001b[38;5;124;43m'\u001b[39;49m\u001b[43m]\u001b[49m\u001b[43m[\u001b[49m\u001b[38;5;124;43m'\u001b[39;49m\u001b[38;5;124;43mclass\u001b[39;49m\u001b[38;5;124;43m'\u001b[39;49m\u001b[43m]\u001b[49m\u001b[43m)\u001b[49m\u001b[38;5;241m.\u001b[39mkeys()\n",
      "File \u001b[0;32m~/Library/Python/3.8/lib/python/site-packages/pandas/io/json/_normalize.py:270\u001b[0m, in \u001b[0;36m_json_normalize\u001b[0;34m(data, record_path, meta, meta_prefix, record_prefix, errors, sep, max_level)\u001b[0m\n\u001b[1;32m    267\u001b[0m     data \u001b[38;5;241m=\u001b[39m [data]\n\u001b[1;32m    269\u001b[0m \u001b[38;5;28;01mif\u001b[39;00m record_path \u001b[38;5;129;01mis\u001b[39;00m \u001b[38;5;28;01mNone\u001b[39;00m:\n\u001b[0;32m--> 270\u001b[0m     \u001b[38;5;28;01mif\u001b[39;00m \u001b[38;5;28;43many\u001b[39;49m\u001b[43m(\u001b[49m\u001b[43m[\u001b[49m\u001b[38;5;28;43misinstance\u001b[39;49m\u001b[43m(\u001b[49m\u001b[43mx\u001b[49m\u001b[43m,\u001b[49m\u001b[43m \u001b[49m\u001b[38;5;28;43mdict\u001b[39;49m\u001b[43m)\u001b[49m\u001b[43m \u001b[49m\u001b[38;5;28;43;01mfor\u001b[39;49;00m\u001b[43m \u001b[49m\u001b[43mx\u001b[49m\u001b[43m \u001b[49m\u001b[38;5;129;43;01min\u001b[39;49;00m\u001b[43m \u001b[49m\u001b[43my\u001b[49m\u001b[38;5;241;43m.\u001b[39;49m\u001b[43mvalues\u001b[49m\u001b[43m(\u001b[49m\u001b[43m)\u001b[49m\u001b[43m]\u001b[49m\u001b[43m \u001b[49m\u001b[38;5;28;43;01mfor\u001b[39;49;00m\u001b[43m \u001b[49m\u001b[43my\u001b[49m\u001b[43m \u001b[49m\u001b[38;5;129;43;01min\u001b[39;49;00m\u001b[43m \u001b[49m\u001b[43mdata\u001b[49m\u001b[43m)\u001b[49m:\n\u001b[1;32m    271\u001b[0m         \u001b[38;5;66;03m# naive normalization, this is idempotent for flat records\u001b[39;00m\n\u001b[1;32m    272\u001b[0m         \u001b[38;5;66;03m# and potentially will inflate the data considerably for\u001b[39;00m\n\u001b[1;32m    273\u001b[0m         \u001b[38;5;66;03m# deeply nested structures:\u001b[39;00m\n\u001b[1;32m    274\u001b[0m         \u001b[38;5;66;03m#  {VeryLong: { b: 1,c:2}} -> {VeryLong.b:1 ,VeryLong.c:@}\u001b[39;00m\n\u001b[1;32m    275\u001b[0m         \u001b[38;5;66;03m#\u001b[39;00m\n\u001b[1;32m    276\u001b[0m         \u001b[38;5;66;03m# TODO: handle record value which are lists, at least error\u001b[39;00m\n\u001b[1;32m    277\u001b[0m         \u001b[38;5;66;03m#       reasonably\u001b[39;00m\n\u001b[1;32m    278\u001b[0m         data \u001b[38;5;241m=\u001b[39m nested_to_record(data, sep\u001b[38;5;241m=\u001b[39msep, max_level\u001b[38;5;241m=\u001b[39mmax_level)\n\u001b[1;32m    279\u001b[0m     \u001b[38;5;28;01mreturn\u001b[39;00m DataFrame(data)\n",
      "File \u001b[0;32m~/Library/Python/3.8/lib/python/site-packages/pandas/io/json/_normalize.py:270\u001b[0m, in \u001b[0;36m<genexpr>\u001b[0;34m(.0)\u001b[0m\n\u001b[1;32m    267\u001b[0m     data \u001b[38;5;241m=\u001b[39m [data]\n\u001b[1;32m    269\u001b[0m \u001b[38;5;28;01mif\u001b[39;00m record_path \u001b[38;5;129;01mis\u001b[39;00m \u001b[38;5;28;01mNone\u001b[39;00m:\n\u001b[0;32m--> 270\u001b[0m     \u001b[38;5;28;01mif\u001b[39;00m \u001b[38;5;28many\u001b[39m([\u001b[38;5;28misinstance\u001b[39m(x, \u001b[38;5;28mdict\u001b[39m) \u001b[38;5;28;01mfor\u001b[39;00m x \u001b[38;5;129;01min\u001b[39;00m \u001b[43my\u001b[49m\u001b[38;5;241;43m.\u001b[39;49m\u001b[43mvalues\u001b[49m()] \u001b[38;5;28;01mfor\u001b[39;00m y \u001b[38;5;129;01min\u001b[39;00m data):\n\u001b[1;32m    271\u001b[0m         \u001b[38;5;66;03m# naive normalization, this is idempotent for flat records\u001b[39;00m\n\u001b[1;32m    272\u001b[0m         \u001b[38;5;66;03m# and potentially will inflate the data considerably for\u001b[39;00m\n\u001b[1;32m    273\u001b[0m         \u001b[38;5;66;03m# deeply nested structures:\u001b[39;00m\n\u001b[1;32m    274\u001b[0m         \u001b[38;5;66;03m#  {VeryLong: { b: 1,c:2}} -> {VeryLong.b:1 ,VeryLong.c:@}\u001b[39;00m\n\u001b[1;32m    275\u001b[0m         \u001b[38;5;66;03m#\u001b[39;00m\n\u001b[1;32m    276\u001b[0m         \u001b[38;5;66;03m# TODO: handle record value which are lists, at least error\u001b[39;00m\n\u001b[1;32m    277\u001b[0m         \u001b[38;5;66;03m#       reasonably\u001b[39;00m\n\u001b[1;32m    278\u001b[0m         data \u001b[38;5;241m=\u001b[39m nested_to_record(data, sep\u001b[38;5;241m=\u001b[39msep, max_level\u001b[38;5;241m=\u001b[39mmax_level)\n\u001b[1;32m    279\u001b[0m     \u001b[38;5;28;01mreturn\u001b[39;00m DataFrame(data)\n",
      "\u001b[0;31mAttributeError\u001b[0m: 'list' object has no attribute 'values'"
     ]
    }
   ],
   "source": [
    "boms['2020SEM2'].keys()\n",
    "timetables['2020SEM2'].keys()\n",
    "pd.json_normalize(timetables['2020SEM2']['class']).keys()"
   ]
  },
  {
   "cell_type": "code",
   "execution_count": null,
   "metadata": {},
   "outputs": [],
   "source": []
  },
  {
   "cell_type": "code",
   "execution_count": null,
   "metadata": {},
   "outputs": [
    {
     "name": "stdout",
     "output_type": "stream",
     "text": [
      "<class 'pandas.core.frame.DataFrame'>\n"
     ]
    }
   ],
   "source": [
    "master_tt = pd.DataFrame\n",
    "for t in timetables:\n",
    "    timetables[t]['period'] = t\n",
    "    # \n",
    "    # master_tt.merge(master_tt, right=timetables[t], how='right')\n",
    "\n",
    "print(master_tt)\n"
   ]
  },
  {
   "cell_type": "code",
   "execution_count": null,
   "metadata": {},
   "outputs": [],
   "source": [
    "# build pre-requisits from timetables\n",
    "\n",
    "def get_prerequisits(df):\n",
    "    "
   ]
  },
  {
   "cell_type": "code",
   "execution_count": null,
   "metadata": {},
   "outputs": [],
   "source": []
  }
 ],
 "metadata": {
  "interpreter": {
   "hash": "aee8b7b246df8f9039afb4144a1f6fd8d2ca17a180786b69acc140d282b71a49"
  },
  "kernelspec": {
   "display_name": "Python 3.10.2 64-bit",
   "language": "python",
   "name": "python3"
  },
  "language_info": {
   "codemirror_mode": {
    "name": "ipython",
    "version": 3
   },
   "file_extension": ".py",
   "mimetype": "text/x-python",
   "name": "python",
   "nbconvert_exporter": "python",
   "pygments_lexer": "ipython3",
   "version": "3.8.9"
  },
  "orig_nbformat": 4
 },
 "nbformat": 4,
 "nbformat_minor": 2
}
