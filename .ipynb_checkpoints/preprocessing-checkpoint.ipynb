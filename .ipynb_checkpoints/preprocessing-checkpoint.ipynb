{
 "cells": [
  {
   "cell_type": "code",
   "execution_count": 6,
   "metadata": {},
   "outputs": [],
   "source": [
    "from pandas import read_csv, DataFrame"
   ]
  },
  {
   "cell_type": "code",
   "execution_count": 7,
   "metadata": {},
   "outputs": [],
   "source": [
    "dataset = read_csv(r\"C:\\Users\\xemme\\fyp\\scrapers\\qualifax_scraper\\results.csv\", encoding='utf8', low_memory=False)"
   ]
  },
  {
   "cell_type": "code",
   "execution_count": 8,
   "metadata": {},
   "outputs": [],
   "source": [
    "columns = ['course_content', 'careers_or_further_progression', 'attendance_options', 'course_name', 'location_(districts)']\n",
    "df = DataFrame([], columns=columns)\n",
    "for c in columns:\n",
    "    df[c] = dataset[c]"
   ]
  },
  {
   "cell_type": "code",
   "execution_count": 9,
   "metadata": {},
   "outputs": [
    {
     "data": {
      "text/html": [
       "<div>\n",
       "<style scoped>\n",
       "    .dataframe tbody tr th:only-of-type {\n",
       "        vertical-align: middle;\n",
       "    }\n",
       "\n",
       "    .dataframe tbody tr th {\n",
       "        vertical-align: top;\n",
       "    }\n",
       "\n",
       "    .dataframe thead th {\n",
       "        text-align: right;\n",
       "    }\n",
       "</style>\n",
       "<table border=\"1\" class=\"dataframe\">\n",
       "  <thead>\n",
       "    <tr style=\"text-align: right;\">\n",
       "      <th></th>\n",
       "      <th>course_content</th>\n",
       "      <th>careers_or_further_progression</th>\n",
       "      <th>attendance_options</th>\n",
       "      <th>course_name</th>\n",
       "      <th>location_(districts)</th>\n",
       "    </tr>\n",
       "  </thead>\n",
       "  <tbody>\n",
       "    <tr>\n",
       "      <th>0</th>\n",
       "      <td>What is... Architecture - M Arch?\\nThe Master ...</td>\n",
       "      <td>What are my career opportunities?\\nThe qualifi...</td>\n",
       "      <td>Full time, Daytime</td>\n",
       "      <td>Architecture - Bolton Street</td>\n",
       "      <td>Dublin City Centre</td>\n",
       "    </tr>\n",
       "    <tr>\n",
       "      <th>1</th>\n",
       "      <td>What is... Culinary Innovation and Food Produc...</td>\n",
       "      <td>What are my career opportunities?\\nGraduates o...</td>\n",
       "      <td>Full time, Part time</td>\n",
       "      <td>Culinary Innovation and Food Product Developme...</td>\n",
       "      <td>Dublin City Centre, Grangegorman</td>\n",
       "    </tr>\n",
       "    <tr>\n",
       "      <th>2</th>\n",
       "      <td>What is... Data Science?\\nThe Postgraduate Cer...</td>\n",
       "      <td>What are my career opportunities?\\nData scienc...</td>\n",
       "      <td>Part time</td>\n",
       "      <td>Data Science - Grangegorman</td>\n",
       "      <td>Dublin City Centre, Grangegorman</td>\n",
       "    </tr>\n",
       "    <tr>\n",
       "      <th>3</th>\n",
       "      <td>This course provides an introduction to spirit...</td>\n",
       "      <td>NaN</td>\n",
       "      <td>Day release</td>\n",
       "      <td>Spirituality Awareness</td>\n",
       "      <td>Belfast</td>\n",
       "    </tr>\n",
       "    <tr>\n",
       "      <th>4</th>\n",
       "      <td>Course Description\\n\\nIs this course for me?\\n...</td>\n",
       "      <td>NaN</td>\n",
       "      <td>Part time</td>\n",
       "      <td>21st Century Teaching and Learning</td>\n",
       "      <td>Dublin City Centre</td>\n",
       "    </tr>\n",
       "  </tbody>\n",
       "</table>\n",
       "</div>"
      ],
      "text/plain": [
       "                                      course_content  \\\n",
       "0  What is... Architecture - M Arch?\\nThe Master ...   \n",
       "1  What is... Culinary Innovation and Food Produc...   \n",
       "2  What is... Data Science?\\nThe Postgraduate Cer...   \n",
       "3  This course provides an introduction to spirit...   \n",
       "4  Course Description\\n\\nIs this course for me?\\n...   \n",
       "\n",
       "                      careers_or_further_progression    attendance_options  \\\n",
       "0  What are my career opportunities?\\nThe qualifi...    Full time, Daytime   \n",
       "1  What are my career opportunities?\\nGraduates o...  Full time, Part time   \n",
       "2  What are my career opportunities?\\nData scienc...             Part time   \n",
       "3                                                NaN           Day release   \n",
       "4                                                NaN             Part time   \n",
       "\n",
       "                                         course_name  \\\n",
       "0                       Architecture - Bolton Street   \n",
       "1  Culinary Innovation and Food Product Developme...   \n",
       "2                        Data Science - Grangegorman   \n",
       "3                             Spirituality Awareness   \n",
       "4                 21st Century Teaching and Learning   \n",
       "\n",
       "               location_(districts)  \n",
       "0                Dublin City Centre  \n",
       "1  Dublin City Centre, Grangegorman  \n",
       "2  Dublin City Centre, Grangegorman  \n",
       "3                           Belfast  \n",
       "4                Dublin City Centre  "
      ]
     },
     "execution_count": 9,
     "metadata": {},
     "output_type": "execute_result"
    }
   ],
   "source": [
    "df.head(5)"
   ]
  },
  {
   "cell_type": "code",
   "execution_count": 10,
   "metadata": {},
   "outputs": [],
   "source": [
    "df['fulldesc'] = \"\"\n",
    "for index,row in df.iterrows():\n",
    "    fulldesc = \"\"\n",
    "    for val in row.values:\n",
    "        if(str(val) != 'nan'):\n",
    "            fulldesc+=val+' '\n",
    "    df['fulldesc'].iloc[index] = fulldesc.lower().strip()"
   ]
  },
  {
   "cell_type": "code",
   "execution_count": 11,
   "metadata": {},
   "outputs": [],
   "source": [
    "cleaned_df = df[df['fulldesc']!='']"
   ]
  },
  {
   "cell_type": "code",
   "execution_count": 12,
   "metadata": {},
   "outputs": [],
   "source": [
    "# remove words like you'll, we'll, they'll\n",
    "cleaned_df['fulldesc'] = cleaned_df['fulldesc'].str.replace(\"'ll\", \" \")"
   ]
  },
  {
   "cell_type": "code",
   "execution_count": 13,
   "metadata": {},
   "outputs": [],
   "source": [
    "# remove punctuation\n",
    "cleaned_df['fulldesc'].head(5)\n",
    "cleaned_df['fulldesc'] = cleaned_df['fulldesc'].replace({\"[^A-Za-z0-9]+\": \" \"}, regex=True)\n",
    "cleaned_df['fulldesc'] = cleaned_df['fulldesc'].str.strip()"
   ]
  },
  {
   "cell_type": "code",
   "execution_count": 14,
   "metadata": {},
   "outputs": [
    {
     "data": {
      "text/plain": [
       "0    what is architecture m arch the master of arch...\n",
       "1    what is culinary innovation and food product d...\n",
       "2    what is data science the postgraduate certific...\n",
       "3    this course provides an introduction to spirit...\n",
       "4    course description is this course for me the c...\n",
       "Name: fulldesc, dtype: object"
      ]
     },
     "execution_count": 14,
     "metadata": {},
     "output_type": "execute_result"
    }
   ],
   "source": [
    "cleaned_df['fulldesc'].head(5)"
   ]
  },
  {
   "cell_type": "code",
   "execution_count": 15,
   "metadata": {},
   "outputs": [],
   "source": [
    "# convert the textual data into vectors, only fulldesc\n",
    "from sklearn.cluster import KMeans\n",
    "from sklearn import metrics\n",
    "from sklearn.feature_extraction.text import TfidfVectorizer"
   ]
  },
  {
   "cell_type": "code",
   "execution_count": 16,
   "metadata": {},
   "outputs": [],
   "source": [
    "# removes stop_words like if, the, then, will, common ones\n",
    "vectorizer = TfidfVectorizer(stop_words='english')"
   ]
  },
  {
   "cell_type": "code",
   "execution_count": 17,
   "metadata": {},
   "outputs": [],
   "source": [
    "X = vectorizer.fit_transform(cleaned_df['fulldesc'])"
   ]
  },
  {
   "cell_type": "code",
   "execution_count": null,
   "metadata": {},
   "outputs": [],
   "source": [
    "# check for ideal number of clusters using elbow method\n",
    "wcss = []\n",
    "\n",
    "for k in range(1,16):\n",
    "    kmeans = KMeans(n_clusters=k, init='k-means++', max_iter=500, n_init=15)\n",
    "    kmeans.fit(X)\n",
    "    wcss.append(kmeans.inertia_)"
   ]
  },
  {
   "cell_type": "code",
   "execution_count": null,
   "metadata": {},
   "outputs": [],
   "source": [
    "plt.plot(range(1,16),wcss)\n",
    "plt.title(\"Elbow Method\")\n",
    "plt.xlabel(\"Number of clusters\")\n",
    "plt.ylabel(\"wcss\")\n",
    "plt.show()"
   ]
  }
 ],
 "metadata": {
  "kernelspec": {
   "display_name": "Python 3",
   "language": "python",
   "name": "python3"
  },
  "language_info": {
   "codemirror_mode": {
    "name": "ipython",
    "version": 3
   },
   "file_extension": ".py",
   "mimetype": "text/x-python",
   "name": "python",
   "nbconvert_exporter": "python",
   "pygments_lexer": "ipython3",
   "version": "3.7.6"
  }
 },
 "nbformat": 4,
 "nbformat_minor": 4
}
