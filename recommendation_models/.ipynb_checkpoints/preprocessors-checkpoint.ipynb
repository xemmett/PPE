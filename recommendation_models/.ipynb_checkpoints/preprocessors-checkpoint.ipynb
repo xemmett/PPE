{
 "cells": [
  {
   "cell_type": "code",
   "execution_count": 2,
   "id": "7cdf7ac3-f488-49b4-8f35-cb91f1c664a5",
   "metadata": {},
   "outputs": [],
   "source": [
    "# simple script to create multiple candidate datasets for clustering.\n",
    "# the best data set will be chosen based on the elbow method for k-means clustering.\n",
    "# Emmett Lawlor\n",
    "# 28/09/2021"
   ]
  },
  {
   "cell_type": "code",
   "execution_count": 9,
   "id": "a39e3a56-d6b5-4eb7-9143-54230451a5f5",
   "metadata": {},
   "outputs": [],
   "source": [
    "from pandas import read_csv, DataFrame"
   ]
  },
  {
   "cell_type": "code",
   "execution_count": 10,
   "id": "48a108e9-67c8-4e8e-b601-a229c671b9b9",
   "metadata": {},
   "outputs": [],
   "source": [
    "df = read_csv('../scrapers/qualifax_scraper/data2020/cleaned_search_results.csv', encoding='utf8', low_memory=False)"
   ]
  },
  {
   "cell_type": "code",
   "execution_count": 11,
   "id": "50b73e8d-e494-4c5f-9aee-23238c1bd497",
   "metadata": {},
   "outputs": [],
   "source": [
    "# we will break up some processing into parts and functions."
   ]
  },
  {
   "cell_type": "code",
   "execution_count": 13,
   "id": "f39df47c-de67-4a65-af7a-7251db0f92c2",
   "metadata": {},
   "outputs": [],
   "source": [
    "def prepareData(df: DataFrame(), columns: list):\n",
    "    for c in columns:\n",
    "        df[c] = dataset[c].astype('str').replace('nan', '').replace('\\n', '')\n",
    "        df[c] = df[c].str.lower()\n",
    "        df['fulldesc'] += df[c]\n",
    "    return df"
   ]
  },
  {
   "cell_type": "code",
   "execution_count": null,
   "id": "1300bdd3-acf0-4ed6-801d-640588b1fd4f",
   "metadata": {},
   "outputs": [],
   "source": [
    "def collegeBasedProcessing(df: DataFrame()):\n",
    "    "
   ]
  }
 ],
 "metadata": {
  "kernelspec": {
   "display_name": "Python 3 (ipykernel)",
   "language": "python",
   "name": "python3"
  },
  "language_info": {
   "codemirror_mode": {
    "name": "ipython",
    "version": 3
   },
   "file_extension": ".py",
   "mimetype": "text/x-python",
   "name": "python",
   "nbconvert_exporter": "python",
   "pygments_lexer": "ipython3",
   "version": "3.9.6"
  }
 },
 "nbformat": 4,
 "nbformat_minor": 5
}
