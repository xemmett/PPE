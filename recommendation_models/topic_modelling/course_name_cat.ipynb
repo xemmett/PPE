{
 "cells": [
  {
   "cell_type": "code",
   "execution_count": 3,
   "metadata": {},
   "outputs": [],
   "source": [
    "import pandas as pd\n",
    "course_data_set = pd.read_csv('../../scrapers/qualifax_scraper/data2020/results.csv', low_memory=False)"
   ]
  },
  {
   "cell_type": "code",
   "execution_count": 37,
   "metadata": {},
   "outputs": [
    {
     "name": "stdout",
     "output_type": "stream",
     "text": [
      "<class 'pandas.core.frame.DataFrame'>\n",
      "Int64Index: 1884 entries, 58 to 14794\n",
      "Data columns (total 98 columns):\n",
      " #   Column                                           Non-Null Count  Dtype  \n",
      "---  ------                                           --------------  -----  \n",
      " 0   application_weblink                              151 non-null    object \n",
      " 1   mature_entry_places                              5 non-null      object \n",
      " 2   application_date_weblink                         0 non-null      object \n",
      " 3   leaving_certificate_applied_programme_lcap       706 non-null    object \n",
      " 4   leaving_certificate_general_entry_requirements   1522 non-null   object \n",
      " 5   what_is_vtos                                     0 non-null      object \n",
      " 6   course_provider                                  1884 non-null   object \n",
      " 7   qqi_fet_links_to_cao_courses                     0 non-null      object \n",
      " 8   assessment_method                                227 non-null    object \n",
      " 9   interview                                        32 non-null     object \n",
      " 10  modules                                          0 non-null      object \n",
      " 11  research_areas                                   0 non-null      object \n",
      " 12  apply_to                                         1884 non-null   object \n",
      " 13  entry_requirements                               304 non-null    object \n",
      " 14  fet_code                                         0 non-null      object \n",
      " 15  mature_applicants                                1505 non-null   object \n",
      " 16  course_schedule                                  0 non-null      object \n",
      " 17  work_placement                                   0 non-null      object \n",
      " 18  modules_link                                     107 non-null    object \n",
      " 19  course_code                                      1884 non-null   object \n",
      " 20  financial_support                                939 non-null    object \n",
      " 21  alternative_provider(s)                          340 non-null    object \n",
      " 22  enrolment_date                                   0 non-null      object \n",
      " 23  download_application_form                        48 non-null     object \n",
      " 24  sub_heading                                      0 non-null      object \n",
      " 25  target_audience                                  0 non-null      object \n",
      " 26  application_fee                                  2 non-null      object \n",
      " 27  qualification_letters                            1491 non-null   object \n",
      " 28  course_name                                      1884 non-null   object \n",
      " 29  apprenticeship_website                           0 non-null      object \n",
      " 30  course_fee                                       698 non-null    object \n",
      " 31  standard_cao_places                              2 non-null      float64\n",
      " 32  leaving_certificate_vocational_programme__lcvp   1341 non-null   object \n",
      " 33  cao_application_dates_and_fees                   1563 non-null   object \n",
      " 34  sponsoring_organisation                          0 non-null      object \n",
      " 35  etb_website                                      0 non-null      object \n",
      " 36  disability_access_route_to_education_dare        1465 non-null   object \n",
      " 37  location                                         0 non-null      object \n",
      " 38  qualifications                                   0 non-null      float64\n",
      " 39  portfolio                                        46 non-null     object \n",
      " 40  restricted_entry                                 52 non-null     object \n",
      " 41  higher_education_access_route_hear               1402 non-null   object \n",
      " 42  recognition_of_prior_learning_rpl                1134 non-null   object \n",
      " 43  duration                                         1821 non-null   object \n",
      " 44  eligibility                                      0 non-null      object \n",
      " 45  points                                           0 non-null      float64\n",
      " 46  pac_application_information                      0 non-null      object \n",
      " 47  flyer_or_course_booklet                          0 non-null      object \n",
      " 48  attendance_options                               1884 non-null   object \n",
      " 49  international_students                           925 non-null    object \n",
      " 50  enrolment_and_start_dates_comment                264 non-null    object \n",
      " 51  course_web_page                                  1836 non-null   object \n",
      " 52  certifications                                   0 non-null      object \n",
      " 53  comment                                          1113 non-null   object \n",
      " 54  start_and_finish_times                           0 non-null      object \n",
      " 55  btei_faq                                         0 non-null      object \n",
      " 56  start_date                                       0 non-null      object \n",
      " 57  specific_subjects_or_course_requirements         1549 non-null   object \n",
      " 58  course_aims                                      0 non-null      object \n",
      " 59  adult_literacy_faq                               0 non-null      object \n",
      " 60  what_is_youthreach                               0 non-null      object \n",
      " 61  alternative_entry                                1137 non-null   object \n",
      " 62  youthreach_faq                                   0 non-null      object \n",
      " 63  traineeship_website                              0 non-null      object \n",
      " 64  link_to_course_fee                               1705 non-null   object \n",
      " 65  methods_of_assessment                            0 non-null      object \n",
      " 66  careers_or_further_progression                   1793 non-null   object \n",
      " 67  qqi_fet_entry_requirements                       1442 non-null   object \n",
      " 68  subjects_taught                                  1725 non-null   object \n",
      " 69  learning_outcomes                                0 non-null      object \n",
      " 70  what_is_adult_literacy                           0 non-null      object \n",
      " 71  vtos_faq                                         0 non-null      object \n",
      " 72  location_(districts)                             1884 non-null   object \n",
      " 73  vtos_information                                 0 non-null      object \n",
      " 74  qqi_fet_applicants_general_information           1493 non-null   object \n",
      " 75  number_of_credits                                22 non-null     object \n",
      " 76  application_date                                 154 non-null    object \n",
      " 77  course_content                                   1879 non-null   object \n",
      " 78  number_of_places                                 973 non-null    object \n",
      " 79  what_is_btei                                     0 non-null      object \n",
      " 80  points_for_joint_honors                          84 non-null     object \n",
      " 81  course_type                                      1884 non-null   object \n",
      " 82  further_enquiries                                1852 non-null   object \n",
      " 83  northeast_further_and_higher_ed_alliance_nefhea  7 non-null      object \n",
      " 84  qualifications.award_name                        1877 non-null   object \n",
      " 85  qualifications.nfq_classification                1854 non-null   object \n",
      " 86  qualifications.awarding_body                     1877 non-null   object \n",
      " 87  qualifications.nfq_level                         1877 non-null   object \n",
      " 88  points.2020                                      1365 non-null   float64\n",
      " 89  points.2019                                      1306 non-null   float64\n",
      " 90  points.2018                                      1228 non-null   float64\n",
      " 91  points.2017                                      22 non-null     float64\n",
      " 92  points.2016                                      11 non-null     float64\n",
      " 93  points.2015                                      4 non-null      float64\n",
      " 94  points.2014                                      1 non-null      float64\n",
      " 95  points.2010                                      3 non-null      float64\n",
      " 96  points.2006                                      1 non-null      float64\n",
      " 97  points.2012                                      1 non-null      float64\n",
      "dtypes: float64(13), object(85)\n",
      "memory usage: 1.4+ MB\n"
     ]
    }
   ],
   "source": [
    "course_data_set[course_data_set['course_type'] == \"Higher Education CAO\"].append(course_data_set[course_data_set['course_type'] == \"Higher Education Direct Entry\"]).info()"
   ]
  },
  {
   "cell_type": "code",
   "execution_count": 5,
   "metadata": {},
   "outputs": [],
   "source": [
    "course_names = course_data_set['course_name']"
   ]
  },
  {
   "cell_type": "code",
   "execution_count": 6,
   "metadata": {},
   "outputs": [],
   "source": [
    "from nltk.corpus import stopwords"
   ]
  },
  {
   "cell_type": "code",
   "execution_count": 7,
   "metadata": {},
   "outputs": [],
   "source": [
    "en_stop = set(stopwords.words('english'))"
   ]
  },
  {
   "cell_type": "code",
   "execution_count": 24,
   "metadata": {},
   "outputs": [],
   "source": [
    "clean = lambda w: w if w.lower() not in en_stop else \"\""
   ]
  },
  {
   "cell_type": "code",
   "execution_count": 9,
   "metadata": {},
   "outputs": [
    {
     "data": {
      "text/plain": [
       "0        Technological University Dublin - City Campus\n",
       "1        Technological University Dublin - City Campus\n",
       "2        Technological University Dublin - City Campus\n",
       "3                             Northern Ireland Hospice\n",
       "4                               Trinity College Dublin\n",
       "                             ...                      \n",
       "14834                    Ballincollig Community School\n",
       "14835                      Cabinteely Community School\n",
       "14836                         Kinsale Community School\n",
       "14837                 St. Mac Dara's Community College\n",
       "14838                         Colaiste Chiaran Leixlip\n",
       "Name: course_provider, Length: 14839, dtype: object"
      ]
     },
     "execution_count": 9,
     "metadata": {},
     "output_type": "execute_result"
    }
   ],
   "source": [
    "# for course_location in course_data_set['location']:\n",
    "#     removables = \n",
    "#     course_data_set['course_name'].\n",
    "course_data_set['course_provider']"
   ]
  },
  {
   "cell_type": "code",
   "execution_count": 27,
   "metadata": {},
   "outputs": [
    {
     "name": "stdout",
     "output_type": "stream",
     "text": [
      "{'over', 'been', 'most', 'few', 'itself', 'o', 'which', 'll', 'on', 'can', 'out', \"mustn't\", \"needn't\", \"wouldn't\", 'between', 'ma', 'yours', 'some', 'mightn', 'hers', 'these', 'am', 'was', 'against', 'do', 'as', 'after', 's', 'myself', 'above', 'at', 'be', 'have', 'don', 're', 'into', 'me', 'than', 'himself', 'he', 'couldn', 'under', 'ain', 'all', 'doing', \"couldn't\", 'a', 'has', 'an', 'of', 'why', \"weren't\", 'here', 'there', 'hadn', \"that'll\", 'them', 'where', 'same', 'being', 'your', 'should', \"aren't\", 'weren', 't', 'how', 'if', 'yourself', 'or', 'down', 'to', 'you', 'through', 'further', 'y', \"you'd\", 'when', 'were', \"wasn't\", 'ours', 'and', 'so', 'is', 'doesn', 'whom', 'wasn', 'only', 'wouldn', 'just', 'too', 'had', 'him', \"didn't\", 'haven', 'now', 'such', 'i', 'won', 'mustn', 'themselves', \"you're\", 'very', 'hasn', \"shan't\", \"should've\", \"shouldn't\", \"you'll\", 'did', 'before', 'up', 'from', 'her', 'because', 'each', 'our', 'but', 'we', 'will', 'yourselves', 'this', 'until', 'ourselves', 'having', 'not', 'isn', 'off', 'more', 'other', 'then', 'nor', 'in', 've', 'by', 'shan', \"you've\", 'it', 'those', 'any', 'd', 'his', 'no', 'its', \"hasn't\", \"she's\", 'what', 'my', 'again', 'once', 'does', \"doesn't\", 'their', 'm', 'who', 'the', 'with', 'about', 'herself', 'they', 'for', 'during', 'didn', \"won't\", \"it's\", \"isn't\", 'both', \"hadn't\", \"haven't\", 'are', 'theirs', 'aren', \"don't\", 'shouldn', 'needn', 'she', 'below', 'that', 'own', 'while', \"mightn't\"}\n"
     ]
    },
    {
     "name": "stderr",
     "output_type": "stream",
     "text": [
      "/var/folders/35/qr67rd9s6d71dbtqzg3mmnd80000gn/T/ipykernel_14481/2058879233.py:1: SettingWithCopyWarning: \n",
      "A value is trying to be set on a copy of a slice from a DataFrame\n",
      "\n",
      "See the caveats in the documentation: https://pandas.pydata.org/pandas-docs/stable/user_guide/indexing.html#returning-a-view-versus-a-copy\n",
      "  course_names[0] = \"The no one spot\"\n"
     ]
    },
    {
     "data": {
      "text/plain": [
       "0                                                 one spot\n",
       "1        Culinary Innovation  Food Product Development ...\n",
       "2                              Data Science - Grangegorman\n",
       "3                                   Spirituality Awareness\n",
       "4                          21st Century Teaching  Learning\n",
       "                               ...                        \n",
       "14834                             Zumba  Full Body Fitness\n",
       "14835                                      Zumba -  Levels\n",
       "14836                                    Zumba - Beginners\n",
       "14837                                        Zumba Fitness\n",
       "14838                                        Zumba Workout\n",
       "Name: course_name, Length: 14839, dtype: object"
      ]
     },
     "execution_count": 27,
     "metadata": {},
     "output_type": "execute_result"
    }
   ],
   "source": [
    "course_names[0] = \"The no one spot\"\n",
    "print(en_stop)\n",
    "course_names.apply(lambda t: ' '.join([ clean(w) for w in t.split()]))"
   ]
  }
 ],
 "metadata": {
  "interpreter": {
   "hash": "31f2aee4e71d21fbe5cf8b01ff0e069b9275f58929596ceb00d14d90e3e16cd6"
  },
  "kernelspec": {
   "display_name": "Python 3.8.9 64-bit",
   "language": "python",
   "name": "python3"
  },
  "language_info": {
   "codemirror_mode": {
    "name": "ipython",
    "version": 3
   },
   "file_extension": ".py",
   "mimetype": "text/x-python",
   "name": "python",
   "nbconvert_exporter": "python",
   "pygments_lexer": "ipython3",
   "version": "3.8.9"
  },
  "orig_nbformat": 4
 },
 "nbformat": 4,
 "nbformat_minor": 2
}
