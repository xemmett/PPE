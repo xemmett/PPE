{
 "cells": [
  {
   "cell_type": "code",
   "execution_count": 8,
   "metadata": {},
   "outputs": [],
   "source": [
    "from pandas import read_csv, DataFrame"
   ]
  },
  {
   "cell_type": "code",
   "execution_count": 57,
   "metadata": {},
   "outputs": [
    {
     "name": "stdout",
     "output_type": "stream",
     "text": [
      "Collecting matplotlib\n",
      "  Downloading matplotlib-3.4.3-cp39-cp39-win_amd64.whl (7.1 MB)"
     ]
    },
    {
     "name": "stderr",
     "output_type": "stream",
     "text": [
      "WARNING: You are using pip version 21.1.3; however, version 21.2.4 is available.\n",
      "You should consider upgrading via the 'c:\\users\\emmett\\appdata\\local\\programs\\python\\python39\\python.exe -m pip install --upgrade pip' command.\n"
     ]
    },
    {
     "name": "stdout",
     "output_type": "stream",
     "text": [
      "\n",
      "Requirement already satisfied: pyparsing>=2.2.1 in c:\\users\\emmett\\appdata\\local\\programs\\python\\python39\\lib\\site-packages (from matplotlib) (2.4.7)\n",
      "Collecting kiwisolver>=1.0.1\n",
      "  Downloading kiwisolver-1.3.2-cp39-cp39-win_amd64.whl (52 kB)\n",
      "Collecting cycler>=0.10\n",
      "  Downloading cycler-0.10.0-py2.py3-none-any.whl (6.5 kB)\n",
      "Requirement already satisfied: numpy>=1.16 in c:\\users\\emmett\\appdata\\local\\programs\\python\\python39\\lib\\site-packages (from matplotlib) (1.21.2)\n",
      "Requirement already satisfied: python-dateutil>=2.7 in c:\\users\\emmett\\appdata\\local\\programs\\python\\python39\\lib\\site-packages (from matplotlib) (2.8.2)\n",
      "Collecting pillow>=6.2.0\n",
      "  Downloading Pillow-8.3.2-cp39-cp39-win_amd64.whl (3.2 MB)\n",
      "Requirement already satisfied: six in c:\\users\\emmett\\appdata\\local\\programs\\python\\python39\\lib\\site-packages (from cycler>=0.10->matplotlib) (1.16.0)\n",
      "Installing collected packages: pillow, kiwisolver, cycler, matplotlib\n",
      "Successfully installed cycler-0.10.0 kiwisolver-1.3.2 matplotlib-3.4.3 pillow-8.3.2\n"
     ]
    }
   ],
   "source": [
    "# !pip install matplotlib"
   ]
  },
  {
   "cell_type": "code",
   "execution_count": 9,
   "metadata": {},
   "outputs": [],
   "source": [
    "dataset = read_csv(r\"C:\\Users\\Emmett\\fyp\\scrapers\\qualifax_scraper\\data2020\\results.csv\", encoding='utf8', low_memory=False)"
   ]
  },
  {
   "cell_type": "code",
   "execution_count": 36,
   "metadata": {},
   "outputs": [],
   "source": [
    "columns = ['course_content', 'careers_or_further_progression', 'attendance_options', 'course_name', 'location_(districts)']\n",
    "df = DataFrame([], columns=columns)\n",
    "for c in columns:\n",
    "    df[c] = dataset[c].astype('str').replace('nan', '').replace('\\n', '')\n",
    "    df[c] = df[c].str.lower()"
   ]
  },
  {
   "cell_type": "code",
   "execution_count": 37,
   "metadata": {},
   "outputs": [
    {
     "data": {
      "text/html": [
       "<div>\n",
       "<style scoped>\n",
       "    .dataframe tbody tr th:only-of-type {\n",
       "        vertical-align: middle;\n",
       "    }\n",
       "\n",
       "    .dataframe tbody tr th {\n",
       "        vertical-align: top;\n",
       "    }\n",
       "\n",
       "    .dataframe thead th {\n",
       "        text-align: right;\n",
       "    }\n",
       "</style>\n",
       "<table border=\"1\" class=\"dataframe\">\n",
       "  <thead>\n",
       "    <tr style=\"text-align: right;\">\n",
       "      <th></th>\n",
       "      <th>course_content</th>\n",
       "      <th>careers_or_further_progression</th>\n",
       "      <th>attendance_options</th>\n",
       "      <th>course_name</th>\n",
       "      <th>location_(districts)</th>\n",
       "    </tr>\n",
       "  </thead>\n",
       "  <tbody>\n",
       "    <tr>\n",
       "      <th>0</th>\n",
       "      <td>what is... architecture - m arch?\\nthe master ...</td>\n",
       "      <td>what are my career opportunities?\\nthe qualifi...</td>\n",
       "      <td>full time, daytime</td>\n",
       "      <td>architecture - bolton street</td>\n",
       "      <td>dublin city centre</td>\n",
       "    </tr>\n",
       "    <tr>\n",
       "      <th>1</th>\n",
       "      <td>what is... culinary innovation and food produc...</td>\n",
       "      <td>what are my career opportunities?\\ngraduates o...</td>\n",
       "      <td>full time, part time</td>\n",
       "      <td>culinary innovation and food product developme...</td>\n",
       "      <td>dublin city centre, grangegorman</td>\n",
       "    </tr>\n",
       "    <tr>\n",
       "      <th>2</th>\n",
       "      <td>what is... data science?\\nthe postgraduate cer...</td>\n",
       "      <td>what are my career opportunities?\\ndata scienc...</td>\n",
       "      <td>part time</td>\n",
       "      <td>data science - grangegorman</td>\n",
       "      <td>dublin city centre, grangegorman</td>\n",
       "    </tr>\n",
       "    <tr>\n",
       "      <th>3</th>\n",
       "      <td>this course provides an introduction to spirit...</td>\n",
       "      <td></td>\n",
       "      <td>day release</td>\n",
       "      <td>spirituality awareness</td>\n",
       "      <td>belfast</td>\n",
       "    </tr>\n",
       "    <tr>\n",
       "      <th>4</th>\n",
       "      <td>course description\\n\\nis this course for me?\\n...</td>\n",
       "      <td></td>\n",
       "      <td>part time</td>\n",
       "      <td>21st century teaching and learning</td>\n",
       "      <td>dublin city centre</td>\n",
       "    </tr>\n",
       "  </tbody>\n",
       "</table>\n",
       "</div>"
      ],
      "text/plain": [
       "                                      course_content  \\\n",
       "0  what is... architecture - m arch?\\nthe master ...   \n",
       "1  what is... culinary innovation and food produc...   \n",
       "2  what is... data science?\\nthe postgraduate cer...   \n",
       "3  this course provides an introduction to spirit...   \n",
       "4  course description\\n\\nis this course for me?\\n...   \n",
       "\n",
       "                      careers_or_further_progression    attendance_options  \\\n",
       "0  what are my career opportunities?\\nthe qualifi...    full time, daytime   \n",
       "1  what are my career opportunities?\\ngraduates o...  full time, part time   \n",
       "2  what are my career opportunities?\\ndata scienc...             part time   \n",
       "3                                                              day release   \n",
       "4                                                                part time   \n",
       "\n",
       "                                         course_name  \\\n",
       "0                       architecture - bolton street   \n",
       "1  culinary innovation and food product developme...   \n",
       "2                        data science - grangegorman   \n",
       "3                             spirituality awareness   \n",
       "4                 21st century teaching and learning   \n",
       "\n",
       "               location_(districts)  \n",
       "0                dublin city centre  \n",
       "1  dublin city centre, grangegorman  \n",
       "2  dublin city centre, grangegorman  \n",
       "3                           belfast  \n",
       "4                dublin city centre  "
      ]
     },
     "execution_count": 37,
     "metadata": {},
     "output_type": "execute_result"
    }
   ],
   "source": [
    "df.head(5)"
   ]
  },
  {
   "cell_type": "code",
   "execution_count": 38,
   "metadata": {},
   "outputs": [],
   "source": [
    "# df['fulldesc'] = \"\"\n",
    "# for index,row in df.iterrows():\n",
    "#     fulldesc = \"\"\n",
    "#     for val in row.values:\n",
    "#         if(str(val) != 'nan'):\n",
    "#             fulldesc+=val+' '\n",
    "#     df['fulldesc'].iloc[index] = fulldesc.lower().strip()"
   ]
  },
  {
   "cell_type": "code",
   "execution_count": 39,
   "metadata": {},
   "outputs": [
    {
     "data": {
      "text/plain": [
       "0    what is... architecture - m arch?\\nthe master ...\n",
       "1    what is... culinary innovation and food produc...\n",
       "2    what is... data science?\\nthe postgraduate cer...\n",
       "3    this course provides an introduction to spirit...\n",
       "4    course description\\n\\nis this course for me?\\n...\n",
       "5    course description \\nthis course aims to provi...\n",
       "6    this is a general course suited to those with ...\n",
       "7    course description \\ndevelop the knowledge, sk...\n",
       "8    course description \\nthis course aims to enabl...\n",
       "9    this course is an introduction to 2d and 3d co...\n",
       "Name: fulldesc, dtype: object"
      ]
     },
     "execution_count": 39,
     "metadata": {},
     "output_type": "execute_result"
    }
   ],
   "source": [
    "df['fulldesc'] = df['course_content'] + df['careers_or_further_progression'] + df['attendance_options'] + df['course_name'] + df['location_(districts)']\n",
    "\n",
    "df['fulldesc'].head(10)"
   ]
  },
  {
   "cell_type": "code",
   "execution_count": 41,
   "metadata": {},
   "outputs": [
    {
     "name": "stdout",
     "output_type": "stream",
     "text": [
      "14839\n",
      "14839\n"
     ]
    }
   ],
   "source": [
    "print(len(df))\n",
    "cleaned_df = df[df['fulldesc']!='']\n",
    "print(len(cleaned_df))"
   ]
  },
  {
   "cell_type": "code",
   "execution_count": 42,
   "metadata": {},
   "outputs": [
    {
     "data": {
      "text/html": [
       "<div>\n",
       "<style scoped>\n",
       "    .dataframe tbody tr th:only-of-type {\n",
       "        vertical-align: middle;\n",
       "    }\n",
       "\n",
       "    .dataframe tbody tr th {\n",
       "        vertical-align: top;\n",
       "    }\n",
       "\n",
       "    .dataframe thead th {\n",
       "        text-align: right;\n",
       "    }\n",
       "</style>\n",
       "<table border=\"1\" class=\"dataframe\">\n",
       "  <thead>\n",
       "    <tr style=\"text-align: right;\">\n",
       "      <th></th>\n",
       "      <th>course_content</th>\n",
       "      <th>careers_or_further_progression</th>\n",
       "      <th>attendance_options</th>\n",
       "      <th>course_name</th>\n",
       "      <th>location_(districts)</th>\n",
       "      <th>fulldesc</th>\n",
       "    </tr>\n",
       "  </thead>\n",
       "  <tbody>\n",
       "    <tr>\n",
       "      <th>0</th>\n",
       "      <td>what is... architecture - m arch?\\nthe master ...</td>\n",
       "      <td>what are my career opportunities?\\nthe qualifi...</td>\n",
       "      <td>full time, daytime</td>\n",
       "      <td>architecture - bolton street</td>\n",
       "      <td>dublin city centre</td>\n",
       "      <td>what is... architecture - m arch?\\nthe master ...</td>\n",
       "    </tr>\n",
       "    <tr>\n",
       "      <th>1</th>\n",
       "      <td>what is... culinary innovation and food produc...</td>\n",
       "      <td>what are my career opportunities?\\ngraduates o...</td>\n",
       "      <td>full time, part time</td>\n",
       "      <td>culinary innovation and food product developme...</td>\n",
       "      <td>dublin city centre, grangegorman</td>\n",
       "      <td>what is... culinary innovation and food produc...</td>\n",
       "    </tr>\n",
       "    <tr>\n",
       "      <th>2</th>\n",
       "      <td>what is... data science?\\nthe postgraduate cer...</td>\n",
       "      <td>what are my career opportunities?\\ndata scienc...</td>\n",
       "      <td>part time</td>\n",
       "      <td>data science - grangegorman</td>\n",
       "      <td>dublin city centre, grangegorman</td>\n",
       "      <td>what is... data science?\\nthe postgraduate cer...</td>\n",
       "    </tr>\n",
       "    <tr>\n",
       "      <th>3</th>\n",
       "      <td>this course provides an introduction to spirit...</td>\n",
       "      <td></td>\n",
       "      <td>day release</td>\n",
       "      <td>spirituality awareness</td>\n",
       "      <td>belfast</td>\n",
       "      <td>this course provides an introduction to spirit...</td>\n",
       "    </tr>\n",
       "    <tr>\n",
       "      <th>4</th>\n",
       "      <td>course description\\n\\nis this course for me?\\n...</td>\n",
       "      <td></td>\n",
       "      <td>part time</td>\n",
       "      <td>21st century teaching and learning</td>\n",
       "      <td>dublin city centre</td>\n",
       "      <td>course description\\n\\nis this course for me?\\n...</td>\n",
       "    </tr>\n",
       "  </tbody>\n",
       "</table>\n",
       "</div>"
      ],
      "text/plain": [
       "                                      course_content  \\\n",
       "0  what is... architecture - m arch?\\nthe master ...   \n",
       "1  what is... culinary innovation and food produc...   \n",
       "2  what is... data science?\\nthe postgraduate cer...   \n",
       "3  this course provides an introduction to spirit...   \n",
       "4  course description\\n\\nis this course for me?\\n...   \n",
       "\n",
       "                      careers_or_further_progression    attendance_options  \\\n",
       "0  what are my career opportunities?\\nthe qualifi...    full time, daytime   \n",
       "1  what are my career opportunities?\\ngraduates o...  full time, part time   \n",
       "2  what are my career opportunities?\\ndata scienc...             part time   \n",
       "3                                                              day release   \n",
       "4                                                                part time   \n",
       "\n",
       "                                         course_name  \\\n",
       "0                       architecture - bolton street   \n",
       "1  culinary innovation and food product developme...   \n",
       "2                        data science - grangegorman   \n",
       "3                             spirituality awareness   \n",
       "4                 21st century teaching and learning   \n",
       "\n",
       "               location_(districts)  \\\n",
       "0                dublin city centre   \n",
       "1  dublin city centre, grangegorman   \n",
       "2  dublin city centre, grangegorman   \n",
       "3                           belfast   \n",
       "4                dublin city centre   \n",
       "\n",
       "                                            fulldesc  \n",
       "0  what is... architecture - m arch?\\nthe master ...  \n",
       "1  what is... culinary innovation and food produc...  \n",
       "2  what is... data science?\\nthe postgraduate cer...  \n",
       "3  this course provides an introduction to spirit...  \n",
       "4  course description\\n\\nis this course for me?\\n...  "
      ]
     },
     "execution_count": 42,
     "metadata": {},
     "output_type": "execute_result"
    }
   ],
   "source": [
    "cleaned_df.head(5)"
   ]
  },
  {
   "cell_type": "code",
   "execution_count": 43,
   "metadata": {},
   "outputs": [],
   "source": [
    "# remove \"'ll\" from words like you'll, we'll, they'll\n",
    "cleaned_df['fulldesc'] = cleaned_df['fulldesc'].str.replace(\"'ll\", \" \")"
   ]
  },
  {
   "cell_type": "code",
   "execution_count": 44,
   "metadata": {},
   "outputs": [],
   "source": [
    "# remove punctuation\n",
    "cleaned_df['fulldesc'].head(5)\n",
    "cleaned_df['fulldesc'] = cleaned_df['fulldesc'].replace({\"[^A-Za-z0-9]+\": \" \"}, regex=True)\n",
    "cleaned_df['fulldesc'] = cleaned_df['fulldesc'].str.strip()"
   ]
  },
  {
   "cell_type": "code",
   "execution_count": 45,
   "metadata": {},
   "outputs": [
    {
     "data": {
      "text/plain": [
       "0    what is architecture m arch the master of arch...\n",
       "1    what is culinary innovation and food product d...\n",
       "2    what is data science the postgraduate certific...\n",
       "3    this course provides an introduction to spirit...\n",
       "4    course description is this course for me the c...\n",
       "Name: fulldesc, dtype: object"
      ]
     },
     "execution_count": 45,
     "metadata": {},
     "output_type": "execute_result"
    }
   ],
   "source": [
    "cleaned_df['fulldesc'].head(5)"
   ]
  },
  {
   "cell_type": "code",
   "execution_count": 46,
   "metadata": {},
   "outputs": [],
   "source": [
    "# convert the textual data into vectors, only fulldesc\n",
    "from sklearn.cluster import KMeans\n",
    "from sklearn import metrics\n",
    "from sklearn.feature_extraction.text import TfidfVectorizer"
   ]
  },
  {
   "cell_type": "code",
   "execution_count": 47,
   "metadata": {},
   "outputs": [],
   "source": [
    "# removes stop_words like if, the, then, will, common ones\n",
    "vectorizer = TfidfVectorizer(stop_words='english')\n",
    "X = vectorizer.fit_transform(cleaned_df['fulldesc'])"
   ]
  },
  {
   "cell_type": "code",
   "execution_count": 49,
   "metadata": {},
   "outputs": [
    {
     "ename": "AttributeError",
     "evalue": "head not found",
     "output_type": "error",
     "traceback": [
      "\u001b[1;31m---------------------------------------------------------------------------\u001b[0m",
      "\u001b[1;31mAttributeError\u001b[0m                            Traceback (most recent call last)",
      "\u001b[1;32m~\\AppData\\Local\\Temp/ipykernel_26644/293315259.py\u001b[0m in \u001b[0;36m<module>\u001b[1;34m\u001b[0m\n\u001b[1;32m----> 1\u001b[1;33m \u001b[0mX\u001b[0m\u001b[1;33m.\u001b[0m\u001b[0mhead\u001b[0m\u001b[1;33m(\u001b[0m\u001b[1;36m5\u001b[0m\u001b[1;33m)\u001b[0m\u001b[1;33m\u001b[0m\u001b[1;33m\u001b[0m\u001b[0m\n\u001b[0m",
      "\u001b[1;32mc:\\users\\emmett\\appdata\\local\\programs\\python\\python39\\lib\\site-packages\\scipy\\sparse\\base.py\u001b[0m in \u001b[0;36m__getattr__\u001b[1;34m(self, attr)\u001b[0m\n\u001b[0;32m    685\u001b[0m             \u001b[1;32mreturn\u001b[0m \u001b[0mself\u001b[0m\u001b[1;33m.\u001b[0m\u001b[0mgetnnz\u001b[0m\u001b[1;33m(\u001b[0m\u001b[1;33m)\u001b[0m\u001b[1;33m\u001b[0m\u001b[1;33m\u001b[0m\u001b[0m\n\u001b[0;32m    686\u001b[0m         \u001b[1;32melse\u001b[0m\u001b[1;33m:\u001b[0m\u001b[1;33m\u001b[0m\u001b[1;33m\u001b[0m\u001b[0m\n\u001b[1;32m--> 687\u001b[1;33m             \u001b[1;32mraise\u001b[0m \u001b[0mAttributeError\u001b[0m\u001b[1;33m(\u001b[0m\u001b[0mattr\u001b[0m \u001b[1;33m+\u001b[0m \u001b[1;34m\" not found\"\u001b[0m\u001b[1;33m)\u001b[0m\u001b[1;33m\u001b[0m\u001b[1;33m\u001b[0m\u001b[0m\n\u001b[0m\u001b[0;32m    688\u001b[0m \u001b[1;33m\u001b[0m\u001b[0m\n\u001b[0;32m    689\u001b[0m     \u001b[1;32mdef\u001b[0m \u001b[0mtranspose\u001b[0m\u001b[1;33m(\u001b[0m\u001b[0mself\u001b[0m\u001b[1;33m,\u001b[0m \u001b[0maxes\u001b[0m\u001b[1;33m=\u001b[0m\u001b[1;32mNone\u001b[0m\u001b[1;33m,\u001b[0m \u001b[0mcopy\u001b[0m\u001b[1;33m=\u001b[0m\u001b[1;32mFalse\u001b[0m\u001b[1;33m)\u001b[0m\u001b[1;33m:\u001b[0m\u001b[1;33m\u001b[0m\u001b[1;33m\u001b[0m\u001b[0m\n",
      "\u001b[1;31mAttributeError\u001b[0m: head not found"
     ]
    }
   ],
   "source": []
  },
  {
   "cell_type": "code",
   "execution_count": 51,
   "metadata": {},
   "outputs": [
    {
     "name": "stdout",
     "output_type": "stream",
     "text": [
      "cluster:  1\n",
      "cluster:  2\n",
      "cluster:  3\n",
      "cluster:  4\n",
      "cluster:  5\n",
      "cluster:  6\n",
      "cluster:  7\n",
      "cluster:  8\n",
      "cluster:  9\n",
      "cluster:  10\n",
      "cluster:  11\n",
      "cluster:  12\n",
      "cluster:  13\n",
      "cluster:  14\n",
      "cluster:  15\n"
     ]
    }
   ],
   "source": [
    "# check for ideal number of clusters using elbow method\n",
    "wcss = []\n",
    "\n",
    "for k in range(1,16):\n",
    "    print('cluster: ', k)\n",
    "    kmeans = KMeans(n_clusters=k, init='k-means++', max_iter=500, n_init=15)\n",
    "    kmeans.fit(X)\n",
    "    wcss.append(kmeans.inertia_)"
   ]
  },
  {
   "cell_type": "code",
   "execution_count": 58,
   "metadata": {},
   "outputs": [],
   "source": [
    "import matplotlib.pyplot as plt"
   ]
  },
  {
   "cell_type": "code",
   "execution_count": 59,
   "metadata": {},
   "outputs": [
    {
     "data": {
      "image/png": "[encoded data removed]",
      "text/plain": [
       "<Figure size 432x288 with 1 Axes>"
      ]
     },
     "metadata": {
      "needs_background": "light"
     },
     "output_type": "display_data"
    }
   ],
   "source": [
    "plt.plot(range(1,16),wcss)\n",
    "plt.title(\"Elbow Method\")\n",
    "plt.xlabel(\"Number of clusters\")\n",
    "plt.ylabel(\"wcss\")\n",
    "plt.show()"
   ]
  },
  {
   "cell_type": "code",
   "execution_count": null,
   "metadata": {},
   "outputs": [],
   "source": []
  }
 ],
 "metadata": {
  "kernelspec": {
   "display_name": "Python 3 (ipykernel)",
   "language": "python",
   "name": "python3"
  },
  "language_info": {
   "codemirror_mode": {
    "name": "ipython",
    "version": 3
   },
   "file_extension": ".py",
   "mimetype": "text/x-python",
   "name": "python",
   "nbconvert_exporter": "python",
   "pygments_lexer": "ipython3",
   "version": "3.9.6"
  }
 },
 "nbformat": 4,
 "nbformat_minor": 4
}
